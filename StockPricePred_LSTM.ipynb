{
  "nbformat": 4,
  "nbformat_minor": 0,
  "metadata": {
    "colab": {
      "name": "StockPricePred_LSTM.ipynb",
      "provenance": [],
      "collapsed_sections": []
    },
    "kernelspec": {
      "name": "python3",
      "display_name": "Python 3"
    },
    "accelerator": "GPU"
  },
  "cells": [
    {
      "cell_type": "code",
      "metadata": {
        "id": "OLMdXr5PuF3K",
        "colab_type": "code",
        "colab": {}
      },
      "source": [
        "import numpy as np\n",
        "import pandas as pd\n",
        "np.random.seed(1)\n",
        "dataframe = pd.read_csv(\"https://raw.githubusercontent.com/apoorvajavali/lstm-stock-price-prediction/master/MSFT.csv\",index_col='Date')"
      ],
      "execution_count": 0,
      "outputs": []
    },
    {
      "cell_type": "code",
      "metadata": {
        "id": "sEKNHfCouWe-",
        "colab_type": "code",
        "colab": {}
      },
      "source": [
        "from sklearn.preprocessing import MinMaxScaler\n",
        "\n",
        "# Target column\n",
        "stock_series = dataframe.iloc[:, -2:-1].values\n",
        "\n",
        "scaler = MinMaxScaler()\n",
        "stock_series = scaler.fit_transform(stock_series)\n",
        "\n",
        "time_steps = 5\n",
        "input_set = []\n",
        "target_set = []\n",
        "\n",
        "for i in range(len(stock_series) - time_steps):\n",
        "  input_set.append(stock_series[i:i+time_steps, 0])\n",
        "  target_set.append(stock_series[i+1:i+time_steps+1, 0])\n",
        "\n",
        "input_set, target_set = np.array(input_set), np.array(target_set)\n",
        "\n",
        "input_len = len(input_set)\n",
        "train = int(0.6 * input_len)\n",
        "val = int(0.2 * input_len)\n",
        "test = int(0.2 * input_len)\n",
        "\n",
        "\n",
        "training_set = {\"inputs\":input_set[:train], \"targets\":target_set[:train]}\n",
        "validation_set = {\"inputs\":input_set[train:train+val], \"targets\":target_set[train:train+val]}\n",
        "test_set = {\"inputs\":input_set[-test:], \"targets\":target_set[-test:]}"
      ],
      "execution_count": 0,
      "outputs": []
    },
    {
      "cell_type": "code",
      "metadata": {
        "id": "m1K3Unw6bdfx",
        "colab_type": "code",
        "colab": {}
      },
      "source": [
        "def initializeLSTM(hidden_size, input_size, output_size):\n",
        "  \n",
        "  total_input = hidden_size + input_size\n",
        "\n",
        "  # Forget gate: weights and bias\n",
        "  Weight_forget = np.random.random((hidden_size, total_input))\n",
        "  bias_forget = np.zeros((hidden_size, 1))\n",
        "\n",
        "  # Input gate: weights and bias\n",
        "  Weight_input = np.random.random((hidden_size, total_input))\n",
        "  bias_input = np.zeros((hidden_size, 1))\n",
        "\n",
        "  # Candidate gate: weights and bias\n",
        "  Weight_candidate = np.random.random((hidden_size, total_input))\n",
        "  bias_candidate = np.zeros((hidden_size, 1))\n",
        "\n",
        "  # Output gate: weights and bias\n",
        "  Weight_output = np.random.random((hidden_size, total_input))\n",
        "  bias_output = np.zeros((hidden_size, 1))\n",
        "\n",
        "  # Final layer hidden to output\n",
        "  Weight_v = np.random.random((output_size, hidden_size))\n",
        "  bias_v = np.zeros((output_size, 1))\n",
        "\n",
        "  return Weight_forget, Weight_input, Weight_candidate, Weight_output, Weight_v, bias_forget, bias_input, bias_candidate, bias_output, bias_v\n",
        "\n",
        "hidden_size = 21\n",
        "input_size = 1\n",
        "output_size = time_steps\n",
        "\n",
        "parameters = initializeLSTM(hidden_size, input_size, output_size)\n"
      ],
      "execution_count": 0,
      "outputs": []
    },
    {
      "cell_type": "code",
      "metadata": {
        "id": "X5tDGVYDp-6V",
        "colab_type": "code",
        "colab": {}
      },
      "source": [
        "def sigmoid(x):\n",
        "  x = x + 1e-12\n",
        "  return 1 / (1 + np.exp(-x))\n",
        "\n",
        "def sigmoid_derivative(x):\n",
        "  return x * (1 - x)\n",
        "\n",
        "def tanh(x):\n",
        "  return (np.exp(x) - np.exp(-x))/(np.exp(x) + np.exp(-x))\n",
        "\n",
        "def tanh_derivative(x):\n",
        "  return 1 - (x ** 2)"
      ],
      "execution_count": 0,
      "outputs": []
    },
    {
      "cell_type": "code",
      "metadata": {
        "id": "DpKW3fJPtL7e",
        "colab_type": "code",
        "colab": {}
      },
      "source": [
        "def forward_pass(inputs, h_prev, C_prev, params):\n",
        "\n",
        "  Weight_forget, Weight_input, Weight_candidate, Weight_output, Weight_v, bias_forget, bias_input, bias_candidate, bias_output, bias_v = params\n",
        "\n",
        "  # Save a list of computations for each of the components in the LSTM\n",
        "  combined_s, forget_s, input_s,  = [], [] ,[]\n",
        "  candidate_s, Cell_s, out_s, hidden_s = [], [] ,[], []\n",
        "  v_s, output_s =  [], [] \n",
        "    \n",
        "  # Append the initial cell and hidden state to their respective lists\n",
        "  hidden_s.append(h_prev)\n",
        "  Cell_s.append(C_prev)\n",
        "\n",
        "  inputs = np.array(inputs).reshape(len(inputs) ,1)\n",
        "  \n",
        "  for value in inputs:\n",
        "\n",
        "    combined = np.row_stack((h_prev, value))\n",
        "    combined_s.append(combined)\n",
        "\n",
        "    # Calculate forget gate \n",
        "    forget = sigmoid(np.dot(Weight_forget, combined) + bias_forget)\n",
        "    forget_s.append(forget)\n",
        "\n",
        "    # Calculate input gate\n",
        "    i = sigmoid(np.dot(Weight_input, combined) + bias_input) \n",
        "    input_s.append(i)\n",
        "\n",
        "    # Calculate candidate gate\n",
        "    candidate = tanh(np.dot(Weight_candidate, combined) + bias_candidate)\n",
        "    candidate_s.append(candidate)\n",
        "\n",
        "    # Update cell state\n",
        "    C_prev = forget * C_prev + i * candidate\n",
        "    Cell_s.append(C_prev)\n",
        "\n",
        "    # Calculate output gate\n",
        "    out = sigmoid(np.dot(Weight_output, combined) + bias_output)\n",
        "    out_s.append(out)\n",
        "\n",
        "    # Update hidden state\n",
        "    h_prev = out * tanh(C_prev)\n",
        "    hidden_s.append(h_prev)\n",
        "\n",
        "    # Calculate final output\n",
        "    v = np.dot(Weight_v, h_prev) + bias_v\n",
        "    v_s.append(v)\n",
        "\n",
        "    output = tanh(v)\n",
        "    output_s.append(output)\n",
        "\n",
        "  return combined_s, forget_s, input_s, candidate_s, Cell_s, out_s, hidden_s, v_s, output_s\n"
      ],
      "execution_count": 0,
      "outputs": []
    },
    {
      "cell_type": "code",
      "metadata": {
        "id": "M1_YgNISMVNS",
        "colab_type": "code",
        "colab": {}
      },
      "source": [
        "def clip_gradient_norm(gradients, maximum_norm=0.25):\n",
        "  \n",
        "    maximum_norm = float(maximum_norm)\n",
        "    total_norm = 0\n",
        "\n",
        "    for gradient in gradients:\n",
        "        gradient_norm = np.sum(np.power(gradient, 2))\n",
        "        total_norm += gradient_norm\n",
        "    \n",
        "    total_norm = np.sqrt(total_norm)\n",
        "\n",
        "    clip_coefficient = maximum_norm / (total_norm + 1e-6)\n",
        "\n",
        "    if clip_coefficient < 1:\n",
        "        for gradient in gradients:\n",
        "            gradient *= clip_coefficient\n",
        "    \n",
        "    return gradients"
      ],
      "execution_count": 0,
      "outputs": []
    },
    {
      "cell_type": "code",
      "metadata": {
        "id": "zoNAojqtpMMB",
        "colab_type": "code",
        "colab": {}
      },
      "source": [
        "def backward_pass(combined_s, forget_s, input_s, candidate_s, Cell_s, out_s, hidden_s, v_s, output_s, target, parameters):\n",
        "  \n",
        "  Weight_forget, Weight_input, Weight_candidate, Weight_output, Weight_v, bias_forget, bias_input, bias_candidate, bias_output, bias_v = parameters\n",
        "  \n",
        "  Weight_forget_derivative = np.zeros_like(Weight_forget)\n",
        "  bias_forget_derivative = np.zeros_like(bias_forget)\n",
        "\n",
        "  Weight_input_derivative = np.zeros_like(Weight_input)\n",
        "  bias_input_derivative = np.zeros_like(bias_input)\n",
        "\n",
        "  Weight_candidate_derivative = np.zeros_like(Weight_candidate)\n",
        "  bias_candidate_derivative = np.zeros_like(bias_candidate)\n",
        "\n",
        "  Weight_output_derivative = np.zeros_like(Weight_output)\n",
        "  bias_output_derivative = np.zeros_like(bias_output)\n",
        "\n",
        "  Weight_v_derivative = np.zeros_like(Weight_v)\n",
        "  bias_v_derivative = np.zeros_like(bias_v)\n",
        "\n",
        "  der_next_h = np.zeros_like(hidden_s[0])\n",
        "  der_next_C = np.zeros_like(Cell_s[0])\n",
        "\n",
        "  loss = 0\n",
        "\n",
        "  for t in reversed(range(len(output_s))):\n",
        "    \n",
        "    loss += (target[t] - output_s[t][0][0]) ** 2\n",
        "\n",
        "    C_prev= Cell_s[t-1]\n",
        "\n",
        "    derivative_v = (target[t] - output_s[t]) * tanh_derivative(output_s[t])\n",
        "  \n",
        "    Weight_v_derivative += np.dot(derivative_v, hidden_s[t].T)\n",
        "    bias_v_derivative += derivative_v\n",
        "\n",
        "    derivative_h = np.dot(Weight_v.T, derivative_v) \n",
        "    derivative_h += der_next_h\n",
        "    \n",
        "    derivative_o = derivative_h * tanh(Cell_s[t])\n",
        "    derivative_o = sigmoid_derivative(out_s[t])*derivative_o\n",
        "    Weight_output_derivative += np.dot(derivative_o, combined_s[t].T)\n",
        "    bias_output_derivative += derivative_o\n",
        "\n",
        "    derivative_C = np.copy(der_next_C)\n",
        "    derivative_C += derivative_h * out_s[t] * tanh_derivative(tanh(Cell_s[t]))\n",
        "    \n",
        "    derivative_c = derivative_C * input_s[t]\n",
        "    derivative_c = tanh_derivative(candidate_s[t]) * derivative_c\n",
        "    Weight_candidate_derivative += np.dot(derivative_c, combined_s[t].T)\n",
        "    bias_candidate_derivative += derivative_c\n",
        "\n",
        "    derivative_i = derivative_C * C_prev\n",
        "    derivative_i = sigmoid_derivative(input_s[t]) * derivative_i \n",
        "    Weight_input_derivative += np.dot(derivative_i, combined_s[t].T)\n",
        "    bias_input_derivative += derivative_i\n",
        "\n",
        "    gradients = Weight_forget_derivative, Weight_input_derivative, Weight_candidate_derivative, Weight_output_derivative, Weight_v_derivative, bias_forget_derivative, bias_input_derivative, bias_candidate_derivative, bias_output_derivative, bias_v_derivative\n",
        "\n",
        "    gradients = clip_gradient_norm(gradients)\n",
        "\n",
        "  return loss, gradients"
      ],
      "execution_count": 0,
      "outputs": []
    },
    {
      "cell_type": "code",
      "metadata": {
        "id": "xqix1AJQseo-",
        "colab_type": "code",
        "colab": {}
      },
      "source": [
        "def update_weights(parameters, gradients, learning_rate):\n",
        "    for parameter, gradient in zip(parameters, gradients):\n",
        "        parameter += learning_rate * gradient   \n",
        "    return parameters"
      ],
      "execution_count": 0,
      "outputs": []
    },
    {
      "cell_type": "code",
      "metadata": {
        "id": "jsyEst8TwFhe",
        "colab_type": "code",
        "outputId": "556a3ae3-80b5-4021-d334-450fb9dcdb25",
        "colab": {
          "base_uri": "https://localhost:8080/",
          "height": 470
        }
      },
      "source": [
        "import matplotlib.pyplot as plt\n",
        "%matplotlib inline\n",
        "\n",
        "epochs = 100\n",
        "\n",
        "train_loss = []\n",
        "val_loss = []\n",
        "\n",
        "for t in range(epochs):\n",
        "  \n",
        "    epoch_train_loss = 0\n",
        "    epoch_val_loss = 0\n",
        "\n",
        "    for n in range(len(validation_set['inputs'])):\n",
        "\n",
        "      inputs = validation_set['inputs'][n]\n",
        "      target = validation_set['targets'][n]\n",
        "\n",
        "      h = np.zeros((hidden_size, 1))\n",
        "      c = np.zeros((hidden_size, 1))\n",
        "     \n",
        "      combined_s, forget_s, input_s, candidate_s, Cell_s, out_s, hidden_s, v_s, output_s = forward_pass(inputs, h, c, parameters)\n",
        "     \n",
        "      loss, gradients = backward_pass(combined_s, forget_s, input_s, candidate_s, Cell_s, out_s, hidden_s, v_s, output_s, target, parameters)\n",
        "  \n",
        "      parameters = update_weights(parameters, gradients, 0.1)\n",
        "\n",
        "      epoch_val_loss += loss\n",
        "   \n",
        "    for n in range(len(training_set['inputs'])):\n",
        "\n",
        "      inputs = training_set['inputs'][n]\n",
        "      target = training_set['targets'][n]\n",
        "\n",
        "      h = np.zeros((hidden_size, 1))\n",
        "      c = np.zeros((hidden_size, 1))\n",
        "\n",
        "      combined_s, forget_s, input_s, candidate_s, Cell_s, out_s, hidden_s, v_s, output_s = forward_pass(inputs, h, c, parameters)\n",
        "\n",
        "      loss, gradients = backward_pass(combined_s, forget_s, input_s, candidate_s, Cell_s, out_s, hidden_s, v_s, output_s, target, parameters)\n",
        "      \n",
        "      parameters = update_weights(parameters, gradients, 0.1)\n",
        "      \n",
        "      epoch_train_loss += loss\n",
        "         \n",
        "    train_loss.append(epoch_train_loss/len(training_set))\n",
        "    val_loss.append(epoch_val_loss/len(validation_set))\n",
        "\n",
        "    if t % 10 == 0 or t == epochs - 1:\n",
        "      print(f'Epoch {t} ============== training loss: {train_loss[-1]}, validation loss: {val_loss[-1]}')\n",
        "\n",
        "\n",
        "# Plot training and validation loss\n",
        "epoch = np.arange(len(train_loss))\n",
        "plt.figure()\n",
        "plt.plot(epoch, train_loss, 'r', label='Training loss')\n",
        "plt.plot(epoch, val_loss, 'b', label='Validation loss')\n",
        "plt.legend()\n",
        "plt.xlabel('Epoch'), plt.ylabel('Loss')\n",
        "plt.show()\n"
      ],
      "execution_count": 389,
      "outputs": [
        {
          "output_type": "stream",
          "text": [
            "Epoch 0 ============== training loss: 320.36554968120424, validation loss: 63.933814927648804\n",
            "Epoch 10 ============== training loss: 9.388775451479804, validation loss: 0.19169623921306944\n",
            "Epoch 20 ============== training loss: 1.8538051183875006, validation loss: 0.11467381365433423\n",
            "Epoch 30 ============== training loss: 0.6799677506539443, validation loss: 0.14513702039128784\n",
            "Epoch 40 ============== training loss: 0.2706818617204493, validation loss: 0.15454028255528635\n",
            "Epoch 50 ============== training loss: 0.22386647487697953, validation loss: 0.14942322723833734\n",
            "Epoch 60 ============== training loss: 0.2292961850761108, validation loss: 0.1412600564902426\n",
            "Epoch 70 ============== training loss: 0.23227861634431934, validation loss: 0.13370534175102827\n",
            "Epoch 80 ============== training loss: 0.22603869037253393, validation loss: 0.12873384951477684\n",
            "Epoch 90 ============== training loss: 0.2150094625856665, validation loss: 0.12588427550027512\n",
            "Epoch 99 ============== training loss: 0.20600369024656146, validation loss: 0.12435863187147525\n"
          ],
          "name": "stdout"
        },
        {
          "output_type": "display_data",
          "data": {
            "image/png": "[encoded data removed]",
            "text/plain": [
              "<Figure size 432x288 with 1 Axes>"
            ]
          },
          "metadata": {
            "tags": []
          }
        }
      ]
    },
    {
      "cell_type": "code",
      "metadata": {
        "id": "P9q0BgXKOwf-",
        "colab_type": "code",
        "outputId": "ccbdac51-ef79-4766-a859-c984172fa70e",
        "colab": {
          "base_uri": "https://localhost:8080/",
          "height": 403
        }
      },
      "source": [
        "test_inputs, test_targets = test_set['inputs'], test_set['targets']\n",
        "\n",
        "# Initialize hidden state and cell state as zeros\n",
        "h = np.zeros((hidden_size, 1))\n",
        "c = np.zeros((hidden_size, 1))\n",
        "# Forward pass\n",
        "z, f, i, c, C_prev, o, h_prev, v, output = forward_pass(test_inputs[0], h, c, parameters)\n",
        "predicted = [scaler.inverse_transform([x]) for x in output[-1]]\n",
        "predicted_stocks = [p[0][0] for p in predicted]\n",
        "\n",
        "for n in range(1, len(test_inputs)):\n",
        "  # Initialize hidden state and cell state as zeros\n",
        "  h = np.zeros((hidden_size, 1))\n",
        "  c = np.zeros((hidden_size, 1))\n",
        "  \n",
        "  # Forward pass\n",
        "  z, f, i, c, C_prev, o, h_prev, v, output = forward_pass(test_inputs[n], h, c, parameters)\n",
        "\n",
        "  predicted = [scaler.inverse_transform([x]) for x in output[-1]]\n",
        "  out_stock = np.array([p[0][0] for p in predicted])\n",
        "  predicted_stocks.append(out_stock[-1])\n",
        "\n",
        "stocks = scaler.inverse_transform(stock_series)\n",
        "actual_stocks = []\n",
        "for i in range(train+val, train+val+test):\n",
        "  actual_stocks.append(stocks[i][0])\n",
        "\n",
        "print(\"Actual Stock:\")\n",
        "print(actual_stocks)\n",
        "print(\"Predicted Stock:\")\n",
        "print(predicted_stocks)\n",
        "\n",
        "# Plot training and validation loss\n",
        "time = np.arange(len(test_inputs))\n",
        "\n",
        "error = 0\n",
        "for i in range(len(time)):\n",
        "  error += (actual_stocks[i] - predicted_stocks[i]) ** 2\n",
        "error = error/len(time)\n",
        "print(\"Mean squared error on test set:\")\n",
        "print(error)\n",
        "\n",
        "\n",
        "plt.figure()\n",
        "plt.plot(time, actual_stocks[:len(time)], 'r', label='Actual Stock')\n",
        "plt.plot(time, predicted_stocks[:len(time)], 'b', label='Predicted Stock')\n",
        "plt.legend()\n",
        "plt.xlabel('Time'), plt.ylabel('Stock')\n",
        "plt.show()"
      ],
      "execution_count": 390,
      "outputs": [
        {
          "output_type": "stream",
          "text": [
            "Actual Stock:\n",
            "[122.47758499999999, 124.14018200000001, 123.71463, 127.811722, 128.544052, 128.425308, 129.24671899999998, 126.55488600000001, 124.902199, 127.56430099999999, 126.822083, 124.21933700000001, 124.20945, 124.199554, 125.81266000000001, 122.071831, 123.43753799999999, 125.17580400000001, 128.066315, 127.212082, 125.37447399999998, 126.04991899999997, 126.81475800000001, 125.33474, 125.39433300000002, 125.31488, 124.103043, 124.88775600000002, 122.85148600000001, 119.037209, 122.33496899999999, 124.98709099999998, 126.963753, 130.51976000000002, 131.71173100000001, 131.21508799999998, 130.609177, 131.43360900000002, 131.56274399999998, 131.960068, 134.254578, 134.781021, 136.032578, 136.05246, 136.857025, 132.536163, 133.032822, 133.251343, 133.062622, 134.771103, 135.665085, 136.539185, 136.141846, 136.042526, 135.545883, 136.926559, 137.47287, 137.969528, 137.969528, 136.161728, 135.35716200000002, 135.506134, 135.704803, 137.50267, 138.35690300000002, 139.777344, 139.250885, 140.39318799999998, 140.085266, 139.409821, 135.35716200000002, 137.135162, 135.982925, 131.324356, 133.787735, 134.373779, 137.959595, 136.787506, 134.880356, 137.671555, 133.52563500000002, 133.226654, 135.668365, 137.940628, 136.794525, 138.319321, 137.312759, 132.937653, 134.99066200000001, 135.279678, 135.100281, 137.65159599999998, 137.39248700000002, 135.57865900000002, 137.16326899999999, 139.575058, 138.628296, 137.05365, 135.61853, 135.658386, 137.05365, 136.854324, 135.867676, 136.92408799999998, 138.05024699999998, 140.591614, 138.96713300000002, 138.668152, 136.914124, 138.887405, 139.066788, 137.262924, 138.558517, 136.605179, 134.193375, 135.817841, 137.65159599999998, 136.654999, 135.209915, 137.77121, 138.628296, 139.206314, 139.076767, 141.08992, 139.93383799999998, 139.21627800000002, 136.944016, 137.96054099999998, 135.907532, 136.774597, 139.465439, 140.252747, 143.701019, 142.345642, 144.119598, 142.883804, 143.23262, 144.059799, 143.970108, 143.571457, 143.770782, 145.465027, 145.614517, 146.571259, 146.81044, 147.55789199999998, 149.461426, 149.83016999999998, 149.87999, 149.619995]\n",
            "Predicted Stock:\n",
            "[119.73375812741334, 119.80835671384888, 123.17110810180384, 120.90640644194528, 120.77011568045488, 122.47418809091045, 123.7829308744676, 125.85307980515485, 125.32833664333018, 125.0368642762983, 124.70731486524252, 122.57311548041127, 121.6756838294586, 122.20430614629164, 121.47105997786461, 119.70704778170072, 119.51283380747975, 119.87751342948073, 121.0132700387867, 120.45065993083266, 121.5442437046654, 122.79814377053879, 123.99659357824235, 122.96780293643015, 122.04041810008081, 122.25972330924088, 121.91103387580921, 121.07098868066737, 120.49855045348113, 118.89682458549566, 118.12920620294716, 118.59599850784542, 118.5495515551587, 119.39176296999413, 122.95021416274858, 126.0072660938892, 128.37687111954182, 130.75349884621457, 131.3436989615053, 131.19584702622515, 131.73835914425126, 133.03028602155553, 134.19313351208814, 135.5786234303331, 137.34889959477928, 137.51686548725445, 137.43968383663824, 136.75793859683645, 135.9385949371182, 134.1577977460579, 135.01567602939937, 135.86299677592763, 136.6625447847277, 137.89005577976545, 138.38895068258884, 138.7427478840261, 138.781780657929, 139.0991321954673, 139.50259383663533, 140.15866045622604, 140.071359257754, 139.7232198150725, 139.06355715786074, 138.32280331897755, 138.54423503083575, 139.45627410137087, 140.46411908356612, 141.79940309809217, 142.58594712878764, 143.12680743019845, 142.612925427466, 142.28543420813048, 141.28010368530494, 139.40052399151048, 137.0650363667585, 137.06467881916922, 136.37711103584564, 135.5705470507907, 137.33485219040108, 138.40690507259518, 139.28803605712739, 137.9006479809431, 137.10604881181314, 137.99207832809057, 136.84010398217805, 137.95972444951428, 139.6781308910654, 139.94301458539957, 138.98440210193624, 138.81755982996722, 137.57028740061082, 136.48033919474628, 138.0578503784484, 138.43926302099146, 138.88103435911466, 140.16986337337406, 140.27535737129728, 140.08900248783186, 140.75927336492822, 140.8926265456015, 139.88772507802085, 139.0436850937877, 138.54571263812733, 138.86508301826723, 139.5807834844579, 140.00521749395867, 140.43238019184776, 141.40903535632975, 141.9600218487666, 142.37969204834292, 141.64727789345824, 141.3106908525021, 140.95235989094004, 141.45816975272686, 140.64854174526374, 139.47982545036038, 139.50876362619596, 138.55848005489446, 137.91954942843267, 139.0425800871649, 139.88350665275908, 139.8704774012781, 140.2487789732588, 141.9008387366717, 142.61794063392358, 142.95794691926852, 142.82848825633434, 142.86302328247262, 141.66917542905446, 140.66465310102046, 140.00457369222062, 140.69486290408486, 141.19928554383765, 142.90435979899152, 144.7330824195541, 145.74127846877886, 146.75414439892256, 146.5919440799139, 147.0563052826003, 146.84452687008238, 147.07670434451518, 147.3769626255616, 147.52095292895515, 147.78254490927264, 148.30157140714385, 148.95120905873634, 149.30964019676236, 149.7916947764157, 150.14061010625312, 150.49855256476224, 150.78698369596805, 150.81690572697096, 150.8241124543904, 150.8712313852407]\n",
            "Mean squared error on test set:\n",
            "12.413775734038833\n"
          ],
          "name": "stdout"
        },
        {
          "output_type": "display_data",
          "data": {
            "image/png": "[encoded data removed]",
            "text/plain": [
              "<Figure size 432x288 with 1 Axes>"
            ]
          },
          "metadata": {
            "tags": []
          }
        }
      ]
    }
  ]
}